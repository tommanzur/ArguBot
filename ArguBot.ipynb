{
  "cells": [
    {
      "cell_type": "markdown",
      "metadata": {
        "id": "iP93roiWtnMk"
      },
      "source": [
        "# **Argubot**: Un Chatbot sobre la tesis doctoral de Tomás Manzur \"Construcción de argumentos y controversias socio-técnicas: Análisis de la conflictividad surgida en la discusión del Plan Provincial de Ordenamiento Territorial de la Provincia de Mendoza\""
      ]
    },
    {
      "cell_type": "markdown",
      "metadata": {
        "id": "rVrKKSTMt32C"
      },
      "source": [
        "\n",
        "## Introducción\n",
        "El **ArguBot** es un chatbot revolucionario, implementado en un **Jupyter Notebook**, diseñado para ofrecer asistencia especializada en consultas sobre la tesis doctoral de Tomás Manzur, \"Construcción de Argumentos y Controversias Socio-Técnicas\". Este bot se destaca por su análisis avanzado y su enfoque en la **privacidad del usuario** y el uso de **fuentes de código abierto**.\n",
        "\n",
        "**Corre el siguiente bloque de código para instalar e importar las librerías necesarias**\n"
      ]
    },
    {
      "cell_type": "code",
      "execution_count": null,
      "metadata": {
        "cellView": "form",
        "id": "XwPmL7K_Xfx8"
      },
      "outputs": [],
      "source": [
        "!pip install -q llama-index chromadb\n",
        "import os\n",
        "import chromadb\n",
        "import requests\n",
        "from getpass import getpass\n",
        "from llama_index.llms import OpenAI, Gemini\n",
        "from llama_index import SimpleDirectoryReader, VectorStoreIndex\n",
        "from llama_index.response.notebook_utils import display_response\n",
        "from llama_index.vector_stores import ChromaVectorStore\n",
        "from llama_index.embeddings import HuggingFaceEmbedding\n",
        "from llama_index.storage.storage_context import StorageContext\n",
        "from llama_index.service_context import ServiceContext\n",
        "from llama_index.prompts import PromptTemplate"
      ]
    },
    {
      "cell_type": "markdown",
      "metadata": {
        "id": "T3oYN5h0xE-8"
      },
      "source": [
        "## Ingreso de Google API Key\n",
        "\n",
        "Para comenzar a interactuar con el **ArguBot**, es necesario que ingreses tu **Google API Key**. Por favor, introduce tu clave en el campo de entrada a continuación.\n",
        "\n",
        "Recuerda que debes tener habilitada la Generative Language API en GCP para utilizar el bot. Tienes una guía detallada para realizarlo en el *Readme* del proyecto.\n",
        "\n",
        "### Privacidad del Usuario\n",
        "La interacción con el bot requiere una **API_KEY**, ingresada de manera segura mediante `getpass`. Con `getpass`, tu clave **no se almacena** y se mantiene confidencial dentro de la sesión actual del usuario. Esto garantiza la **confidencialidad** y la **protección de los datos del usuario**. Tu privacidad y seguridad son nuestra máxima prioridad.\n",
        "\n",
        "**Por favor, corre el siguiente bloque de código e ingresa tu Google API Key:**\n"
      ]
    },
    {
      "cell_type": "code",
      "execution_count": null,
      "metadata": {
        "colab": {
          "base_uri": "https://localhost:8080/"
        },
        "id": "s7CGfoCiYXao",
        "outputId": "7ca89b07-9dd8-4148-9c0b-2f3bd64bd905"
      },
      "outputs": [
        {
          "name": "stdout",
          "output_type": "stream",
          "text": [
            "Enter your Gogle secret API Key: ··········\n"
          ]
        }
      ],
      "source": [
        "GOOGLE_API_KEY = getpass('Enter your Gogle secret API Key: ')\n",
        "os.environ[\"GOOGLE_API_KEY\"] = GOOGLE_API_KEY\n"
      ]
    },
    {
      "cell_type": "markdown",
      "metadata": {
        "id": "zuT3uplaggA3"
      },
      "source": [
        "# Bienvenido a ArguBot\n",
        "\n",
        "Bienvenido a ArguBot, el chatbot interactivo diseñado para ayudarte a explorar los ricos y complejos temas cubiertos en la tesis doctoral de Tomás Manzur sobre \"Construcción de Argumentos y Controversias Socio-Técnicas\", enfocándose en el Plan Provincial de Ordenamiento Territorial de Mendoza.\n",
        "\n",
        "Como usuario, tienes la oportunidad de adentrarte en varios aspectos de esta tesis, incluyendo las complejidades de la planificación territorial, la dinámica de las controversias socio-técnicas y un análisis detallado de argumentación. Ya seas estudiante, investigador o simplemente alguien interesado en estos temas, ArguBot está aquí para guiarte a través de los contenidos y hallazgos de la tesis.\n",
        "\n",
        "**Corre el siguiente bloque de código para configurar el modelo**\n",
        "\n",
        "*Esto puede tardar varios minutos*"
      ]
    },
    {
      "cell_type": "code",
      "execution_count": null,
      "metadata": {
        "cellView": "form",
        "id": "TXWOc79_mZ-5"
      },
      "outputs": [],
      "source": [
        "embed_model = HuggingFaceEmbedding(model_name=\"BAAI/bge-base-en-v1.5\")\n",
        "\n",
        "with requests.get('https://drive.google.com/file/d/1iFHzW_QO_f6LJzBiOB5ZM7taxAvf7Jgr/view?usp=drive_link', stream=True) as r:\n",
        "    r.raise_for_status()\n",
        "    with open('/content/src/data.txt', 'wb') as f:\n",
        "        for chunk in r.iter_content(chunk_size=8192):\n",
        "            f.write(chunk)\n",
        "\n",
        "documents = SimpleDirectoryReader('src').load_data()\n",
        "\n",
        "llm = Gemini(temperature=0.2, model=\"gemini-pro\")\n",
        "\n",
        "db = chromadb.PersistentClient(path=\"./chroma_db_HF\")\n",
        "chroma_collection = db.get_or_create_collection(\"Tesis_Tomas_Manzur\")\n",
        "vector_store = ChromaVectorStore(chroma_collection=chroma_collection)\n",
        "\n",
        "svc = ServiceContext.from_defaults(embed_model=embed_model,llm=llm)\n",
        "stc = StorageContext.from_defaults(vector_store=vector_store)\n",
        "\n",
        "index = VectorStoreIndex.from_documents(\n",
        "    documents, storage_context=stc, service_context=svc\n",
        ")\n",
        "query_engine = index.as_query_engine()\n",
        "\n",
        "template = (\n",
        "    \"Dado el contexto que te proporcionare responde las preguntas \\n\"\n",
        "    \"Contexto:\\n\"\n",
        "    \"################################\\n\"\n",
        "    \"{context_str}\"\n",
        "    \"################################\\n\"\n",
        "    \"Responde en español como si fueras sociologo experto en controversias sociotécnicas y en análisis de conflictos sociales, políticos, ambientales y territoriales: {query_str}\\n\"\n",
        ")\n",
        "qa_template = PromptTemplate(template)\n",
        "query_engine.update_prompts(\n",
        "    {\"response_synthesizer:text_qa_template\": qa_template}\n",
        ")"
      ]
    },
    {
      "cell_type": "markdown",
      "metadata": {
        "id": "RDm2Mp4aeM3a"
      },
      "source": [
        "\n",
        "## Interactúa con ArguBot\n",
        "\n",
        "Aquí hay algunos tipos de preguntas o interacciones que puedes tener con ArguBot:\n",
        "\n",
        "1. **Consultas de Contenido**: Pide información específica de la tesis.\n",
        "   - Ejemplo: \"¿Cuál es el argumento principal sobre la gestión de recursos hídricos en la tesis?\"\n",
        "\n",
        "2. **Análisis de Argumentos**: Profundiza en el análisis de los argumentos presentados en la tesis.\n",
        "   - Ejemplo: \"¿Puedes desglosar los argumentos a favor y en contra del desarrollo urbano en Mendoza?\"\n",
        "\n",
        "3. **Contextualización de Conflictos**: Explora los conflictos socio-técnicos dentro de la planificación territorial de Mendoza.\n",
        "   - Ejemplo: \"¿Cuáles son los principales conflictos en el Plan Provincial de Ordenamiento Territorial y cómo impactan a las comunidades locales?\"\n",
        "\n",
        "4. **Perspectivas Metodológicas**: Pregunta sobre las metodologías de investigación utilizadas en la tesis.\n",
        "   - Ejemplo: \"¿Cómo contribuyó el enfoque de investigación cualitativa a los hallazgos de la tesis?\"\n",
        "\n",
        "5. **Discusión sobre Hallazgos**: Discute hallazgos específicos de la tesis.\n",
        "   - Ejemplo: \"¿Qué revela la tesis sobre el papel de los actores sociales en la planificación territorial de Mendoza?\"\n",
        "\n",
        "Siéntete libre de hacer cualquier pregunta dentro de estos dominios o áreas relacionadas, y haré mi mejor esfuerzo para proporcionar información perspicaz y precisa basada en la tesis. ¡Exploramos juntos el fascinante mundo del análisis de argumentos socio-técnicos!\n",
        "\n",
        "**Corre el siguiente bloque de código para iniciar el chat con ArguBot**"
      ]
    },
    {
      "cell_type": "code",
      "execution_count": null,
      "metadata": {
        "cellView": "form",
        "id": "2qJbrM0OeMJ_"
      },
      "outputs": [],
      "source": [
        "i = 0\n",
        "while i < 10:\n",
        "  inp = input(\"User: \")\n",
        "  response = query_engine.query(inp)\n",
        "  display_response(response)\n",
        "  i + 1"
      ]
    }
  ],
  "metadata": {
    "colab": {
      "provenance": []
    },
    "kernelspec": {
      "display_name": "Python 3",
      "name": "python3"
    },
    "language_info": {
      "name": "python"
    }
  },
  "nbformat": 4,
  "nbformat_minor": 0
}
