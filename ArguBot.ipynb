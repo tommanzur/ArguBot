{
  "cells": [
    {
      "cell_type": "markdown",
      "metadata": {
        "id": "74Op-GhH_7Lg"
      },
      "source": []
    },
    {
      "cell_type": "markdown",
      "metadata": {
        "id": "iP93roiWtnMk"
      },
      "source": [
        "# **Argubot**: Un Chatbot sobre la tesis doctoral de Tomás Manzur \"Construcción de argumentos y controversias socio-técnicas: Análisis de la conflictividad surgida en la discusión del Plan Provincial de Ordenamiento Territorial de la Provincia de Mendoza\""
      ]
    },
    {
      "cell_type": "markdown",
      "metadata": {
        "id": "rVrKKSTMt32C"
      },
      "source": [
        "\n",
        "## Introducción\n",
        "El **ArguBot** es un chatbot implementado en un **Jupyter Notebook**, diseñado para ofrecer asistencia especializada en consultas sobre la tesis doctoral de Tomás Manzur, \"Construcción de Argumentos y Controversias Socio-Técnicas\". Este bot se destaca por su análisis avanzado y su enfoque en la **privacidad del usuario** y el uso de **fuentes de código abierto**.\n",
        "\n",
        "**Corre el siguiente bloque de código para instalar e importar las librerías necesarias**\n"
      ]
    },
    {
      "cell_type": "code",
      "execution_count": null,
      "metadata": {
        "cellView": "form",
        "id": "XwPmL7K_Xfx8"
      },
      "outputs": [],
      "source": [
        "!pip install -q llama-index chromadb\n",
        "!pip install gdown\n",
        "!mkdir src\n",
        "import os\n",
        "import chromadb\n",
        "import requests\n",
        "import gdown\n",
        "from getpass import getpass\n",
        "from llama_index.llms import OpenAI, Gemini\n",
        "from llama_index import SimpleDirectoryReader, VectorStoreIndex\n",
        "from llama_index.response.notebook_utils import display_response\n",
        "from llama_index.vector_stores import ChromaVectorStore\n",
        "from llama_index.embeddings import HuggingFaceEmbedding\n",
        "from llama_index.storage.storage_context import StorageContext\n",
        "from llama_index.service_context import ServiceContext\n",
        "from llama_index.prompts import PromptTemplate"
      ]
    },
    {
      "cell_type": "markdown",
      "metadata": {
        "id": "T3oYN5h0xE-8"
      },
      "source": [
        "## Ingreso de Google API Key\n",
        "\n",
        "Para comenzar a interactuar con el **ArguBot**, es necesario que ingreses tu **Google API Key**. Por favor, introduce tu clave en el campo de entrada a continuación.\n",
        "\n",
        "Recuerda que debes tener habilitada la Generative Language API en GCP para utilizar el bot. Tienes una guía detallada para realizarlo en el *Readme* del proyecto (https://github.com/tommanzur/ArguBot/blob/main/README.md).\n",
        "\n",
        "### Privacidad del Usuario\n",
        "La interacción con el bot requiere una **API_KEY**, ingresada de manera segura mediante `getpass`. Con `getpass`, tu clave **no se almacena** y se mantiene confidencial dentro de tu sesión de usuario actual. Esto garantiza la **confidencialidad** y la **protección de los datos del usuario**. Tu privacidad y seguridad son nuestra máxima prioridad.\n",
        "\n",
        "**Por favor, corre el siguiente bloque de código e ingresa tu Google API Key:**\n"
      ]
    },
    {
      "cell_type": "code",
      "execution_count": 2,
      "metadata": {
        "cellView": "form",
        "colab": {
          "base_uri": "https://localhost:8080/"
        },
        "id": "s7CGfoCiYXao",
        "outputId": "47ef7d53-7afa-4650-c989-799a7295da55"
      },
      "outputs": [
        {
          "name": "stdout",
          "output_type": "stream",
          "text": [
            "Enter your Gogle secret API Key: ··········\n"
          ]
        }
      ],
      "source": [
        "GOOGLE_API_KEY = getpass('Enter your Gogle secret API Key: ')\n",
        "os.environ[\"GOOGLE_API_KEY\"] = GOOGLE_API_KEY\n"
      ]
    },
    {
      "cell_type": "markdown",
      "metadata": {
        "id": "zuT3uplaggA3"
      },
      "source": [
        "# Bienvenido a ArguBot\n",
        "\n",
        "Bienvenido a ArguBot, el chatbot interactivo diseñado para ayudarte a explorar los ricos y complejos temas cubiertos en la tesis doctoral de Tomás Manzur sobre \"Construcción de Argumentos y Controversias Socio-Técnicas\", enfocándose en el Plan Provincial de Ordenamiento Territorial de Mendoza.\n",
        "\n",
        "Como usuario, tienes la oportunidad de adentrarte en varios aspectos de esta tesis, incluyendo las complejidades de la planificación territorial, la dinámica de las controversias socio-técnicas y un análisis detallado de argumentación. Ya seas estudiante, investigador o simplemente alguien interesado en estos temas, ArguBot está aquí para guiarte a través de los contenidos y hallazgos de la tesis.\n",
        "\n",
        "**Corre el siguiente bloque de código para configurar el modelo**\n",
        "\n",
        "*Esto puede tardar varios minutos*"
      ]
    },
    {
      "cell_type": "code",
      "execution_count": null,
      "metadata": {
        "cellView": "form",
        "id": "TXWOc79_mZ-5"
      },
      "outputs": [],
      "source": [
        "embed_model = HuggingFaceEmbedding(model_name=\"BAAI/bge-base-en-v1.5\")\n",
        "\n",
        "url = 'https://drive.google.com/uc?id=1iFHzW_QO_f6LJzBiOB5ZM7taxAvf7Jgr'\n",
        "output = 'src/data.txt'\n",
        "gdown.download(url, output, quiet=False)\n",
        "\n",
        "documents = SimpleDirectoryReader('src').load_data()\n",
        "\n",
        "llm = Gemini(temperature=0.2, model=\"gemini-pro\")\n",
        "\n",
        "db = chromadb.PersistentClient(path=\"./chroma_db_HF\")\n",
        "chroma_collection = db.get_or_create_collection(\"Tesis_Tomas_Manzur\")\n",
        "vector_store = ChromaVectorStore(chroma_collection=chroma_collection)\n",
        "\n",
        "svc = ServiceContext.from_defaults(embed_model=embed_model,llm=llm)\n",
        "stc = StorageContext.from_defaults(vector_store=vector_store)\n",
        "\n",
        "index = VectorStoreIndex.from_documents(\n",
        "    documents, storage_context=stc, service_context=svc\n",
        ")\n",
        "query_engine = index.as_query_engine()\n",
        "\n",
        "template = (\n",
        "    \"Dado el contexto que te proporcionare responde las preguntas sobre la tesis doctoral de Tomás Manzur.\\n\"\n",
        "    \"Contexto:\\n\"\n",
        "    \"################################\\n\"\n",
        "    \"{context_str}\"\n",
        "    \"################################\\n\"\n",
        "    \"Responde en español como si fueras sociologo experto en controversias sociotécnicas y en análisis de conflictos sociales, políticos, ambientales y territoriales: {query_str}\\n\"\n",
        ")\n",
        "qa_template = PromptTemplate(template)\n",
        "query_engine.update_prompts(\n",
        "    {\"response_synthesizer:text_qa_template\": qa_template}\n",
        ")"
      ]
    },
    {
      "cell_type": "markdown",
      "metadata": {
        "id": "RDm2Mp4aeM3a"
      },
      "source": [
        "\n",
        "## Interactúa con ArguBot\n",
        "\n",
        "Aquí hay algunos tipos de preguntas o interacciones que puedes tener con ArguBot:\n",
        "\n",
        "1. **Consultas de Contenido**: Pide información específica de la tesis.\n",
        "   - Ejemplo: \"¿Cuál es el argumento principal sobre la gestión de recursos hídricos en la tesis?\"\n",
        "\n",
        "2. **Análisis de Argumentos**: Profundiza en el análisis de los argumentos presentados en la tesis.\n",
        "   - Ejemplo: \"¿Puedes desglosar los argumentos a favor y en contra del desarrollo urbano en Mendoza?\"\n",
        "\n",
        "3. **Contextualización de Conflictos**: Explora los conflictos socio-técnicos dentro de la planificación territorial de Mendoza.\n",
        "   - Ejemplo: \"¿Cuáles son los principales conflictos en el Plan Provincial de Ordenamiento Territorial y cómo impactan a las comunidades locales?\"\n",
        "\n",
        "4. **Perspectivas Metodológicas**: Pregunta sobre las metodologías de investigación utilizadas en la tesis.\n",
        "   - Ejemplo: \"¿Cómo contribuyó el enfoque de investigación cualitativa a los hallazgos de la tesis?\"\n",
        "\n",
        "5. **Discusión sobre Hallazgos**: Discute hallazgos específicos de la tesis.\n",
        "   - Ejemplo: \"¿Qué revela la tesis sobre el papel de los actores sociales en la planificación territorial de Mendoza?\"\n",
        "\n",
        "Siéntete libre de hacer cualquier pregunta dentro de estos dominios o áreas relacionadas, y haré mi mejor esfuerzo para proporcionar información perspicaz y precisa basada en la tesis. ¡Exploramos juntos el fascinante mundo del análisis de argumentos socio-técnicos!\n",
        "\n",
        "**Corre el siguiente bloque de código para iniciar el chat con ArguBot**\n",
        "\n",
        "*Para finalizar la ejecución tipea \"exit\"*"
      ]
    },
    {
      "cell_type": "code",
      "execution_count": 4,
      "metadata": {
        "cellView": "form",
        "colab": {
          "base_uri": "https://localhost:8080/",
          "height": 1000
        },
        "id": "2qJbrM0OeMJ_",
        "outputId": "6d192da2-6ff8-46e8-a5ae-f34391c56ff8"
      },
      "outputs": [
        {
          "name": "stdout",
          "output_type": "stream",
          "text": [
            "User: cómo puedes asistirme?\n"
          ]
        },
        {
          "data": {
            "text/markdown": [
              "**`Final Response:`** Como sociólogo experto en controversias sociotécnicas y en análisis de conflictos sociales, políticos, ambientales y territoriales, puedo asistirte de las siguientes maneras:\n",
              "\n",
              "* **Análisis del conflicto:** Puedo ayudarte a analizar el conflicto que subyace a la discusión del Plan Provincial de Ordenamiento Territorial de Mendoza (PPOT), identificando los diferentes actores involucrados, sus intereses y sus posiciones.\n",
              "* **Construcciones discursivas:** Puedo ayudarte a comprender las diferentes construcciones discursivas sobre el territorio que sostienen los actores sociales involucrados en la discusión del PPOT, prestando especial atención a los distintos usos del agua (actuales, potenciales o ideales) que manifiestan.\n",
              "* **Argumentos:** Puedo ayudarte a analizar los argumentos que sostienen las construcciones discursivas referidas arriba, dando cuenta de las observaciones diagnósticas sobre el ordenamiento del territorio, de las presuposiciones sobre futuros territoriales posibles, temidos y deseados, y de las valoraciones que los componen.\n",
              "* **Controversias socio-técnicas:** Puedo ayudarte a explorar las controversias socio-técnicas que tuvieron lugar durante la elaboración del PPOT e identificar los saberes y tecnologías que utilizaron los distintos actores sociales enrolados en dichas controversias.\n",
              "* **Proyectos territoriales:** Puedo ayudarte a examinar los distintos proyectos territoriales en disputa, analizando su relación con los argumentos que esgrimieron los actores sociales partícipes.\n",
              "\n",
              "Además de lo anterior, también puedo ayudarte a:\n",
              "\n",
              "* **Diseñar estrategias de resolución de conflictos:** Puedo ayudarte a diseñar estrategias de resolución de conflictos que sean efectivas y sostenibles, teniendo en cuenta las características específicas del conflicto y los intereses de las partes involucradas.\n",
              "* **Facilitar el diálogo entre las partes:** Puedo ayudarte a facilitar el diálogo entre las partes involucradas en el conflicto, creando un espacio seguro y neutral para que puedan expresar sus puntos de vista y encontrar puntos en común.\n",
              "* **Evaluar el impacto de las políticas públicas:** Puedo ayudarte a evaluar el impacto de las políticas públicas en el territorio, identificando los efectos positivos y negativos que han tenido y sugiriendo medidas para mejorar su implementación.\n",
              "\n",
              "Espero que esta información te sea útil. No dudes en ponerte en contacto conmigo si tienes alguna otra pregunta."
            ],
            "text/plain": [
              "<IPython.core.display.Markdown object>"
            ]
          },
          "metadata": {},
          "output_type": "display_data"
        },
        {
          "name": "stdout",
          "output_type": "stream",
          "text": [
            "User: Cuéntame un poco sobre el PPOT\n"
          ]
        },
        {
          "data": {
            "text/markdown": [
              "**`Final Response:`** El PPOT (Plan Provincial de Ordenamiento Territorial) es un plan de ordenamiento territorial de la provincia de Mendoza, Argentina. Fue elaborado por la Agencia Provincial de Ordenamiento Territorial (APOT) y aprobado por la Legislatura provincial en 2017.\n",
              "\n",
              "El PPOT tiene como objetivo ordenar el uso del suelo y las actividades económicas en la provincia, con el fin de promover el desarrollo sostenible y la protección del medio ambiente. El plan incluye una serie de medidas para lograr estos objetivos, como la delimitación de zonas de uso residencial, comercial, industrial y agrícola, la regulación de la construcción y la protección de los recursos naturales.\n",
              "\n",
              "El PPOT ha sido objeto de controversia desde su elaboración. Algunos sectores sociales lo han criticado por considerarlo demasiado restrictivo y por no tener en cuenta las necesidades de los pequeños productores y de las comunidades indígenas. Otros sectores lo han criticado por considerarlo demasiado permisivo y por no proteger adecuadamente el medio ambiente.\n",
              "\n",
              "El debate sobre el PPOT ha estado marcado por la confrontación entre diferentes actores sociales, como organizaciones ambientalistas, organizaciones empresariales, sindicatos y comunidades indígenas. El gobierno provincial ha intentado mediar en el conflicto, pero no ha logrado conciliar las diferentes posiciones.\n",
              "\n",
              "El PPOT es un ejemplo de cómo los planes de ordenamiento territorial pueden ser objeto de controversia. Esto se debe a que estos planes suelen afectar los intereses de diferentes actores sociales y a que no siempre es fácil encontrar un equilibrio entre los diferentes intereses."
            ],
            "text/plain": [
              "<IPython.core.display.Markdown object>"
            ]
          },
          "metadata": {},
          "output_type": "display_data"
        },
        {
          "name": "stdout",
          "output_type": "stream",
          "text": [
            "User: Cómo conecta Manzur los conceptos de controversias sociotécnicas, poder, lenguaje y acción social?\n"
          ]
        },
        {
          "data": {
            "text/markdown": [
              "**`Final Response:`** Manzur conecta los conceptos de controversias sociotécnicas, poder, lenguaje y acción social de la siguiente manera:\n",
              "\n",
              "* **Controversias sociotécnicas:** Son disputas públicas sobre los impactos sociales, ambientales y económicos de las tecnologías. Estas controversias involucran a una variedad de actores, incluyendo expertos, políticos, activistas y ciudadanos comunes.\n",
              "* **Poder:** El poder es la capacidad de influir en el comportamiento de los demás. En el contexto de las controversias sociotécnicas, el poder puede ser ejercido por una variedad de actores, incluyendo expertos, políticos, activistas y ciudadanos comunes.\n",
              "* **Lenguaje:** El lenguaje es un sistema de comunicación que permite a las personas compartir información, ideas y opiniones. En el contexto de las controversias sociotécnicas, el lenguaje puede ser utilizado para persuadir, informar y movilizar a la opinión pública.\n",
              "* **Acción social:** La acción social es el comportamiento colectivo que tiene como objetivo cambiar el mundo social. En el contexto de las controversias sociotécnicas, la acción social puede tomar una variedad de formas, incluyendo protestas, campañas de sensibilización y litigios.\n",
              "\n",
              "Manzur argumenta que estos cuatro conceptos están estrechamente relacionados. Las controversias sociotécnicas son a menudo el resultado de conflictos de poder entre diferentes actores. El lenguaje es utilizado por los actores para ejercer poder y persuadir a los demás. La acción social es una forma de desafiar el poder y cambiar el mundo social.\n",
              "\n",
              "Manzur también argumenta que estos cuatro conceptos son importantes para entender el cambio social. Las controversias sociotécnicas pueden conducir a cambios en las políticas públicas, las prácticas corporativas y las normas sociales. El lenguaje puede ser utilizado para crear conciencia sobre los problemas sociales y movilizar a la opinión pública. La acción social puede ser utilizada para desafiar el poder y cambiar el mundo social.\n",
              "\n",
              "En general, Manzur argumenta que estos cuatro conceptos son esenciales para entender la relación entre la sociedad y la tecnología. Las controversias sociotécnicas son un ejemplo de cómo la tecnología puede tener un impacto profundo en la sociedad. El poder, el lenguaje y la acción social son herramientas que pueden ser utilizadas para gestionar estos impactos y dar forma al futuro de la sociedad."
            ],
            "text/plain": [
              "<IPython.core.display.Markdown object>"
            ]
          },
          "metadata": {},
          "output_type": "display_data"
        },
        {
          "name": "stdout",
          "output_type": "stream",
          "text": [
            "User: exit\n"
          ]
        }
      ],
      "source": [
        "inp = \"\"\n",
        "while inp != \"exit\":\n",
        "  inp = input(\"User: \")\n",
        "  if inp == \"exit\":\n",
        "    break\n",
        "  response = query_engine.query(inp)\n",
        "  display_response(response)"
      ]
    }
  ],
  "metadata": {
    "accelerator": "GPU",
    "colab": {
      "gpuType": "T4",
      "provenance": []
    },
    "kernelspec": {
      "display_name": "Python 3",
      "name": "python3"
    },
    "language_info": {
      "codemirror_mode": {
        "name": "ipython",
        "version": 3
      },
      "file_extension": ".py",
      "mimetype": "text/x-python",
      "name": "python",
      "nbconvert_exporter": "python",
      "pygments_lexer": "ipython3",
      "version": "3.10.13"
    }
  },
  "nbformat": 4,
  "nbformat_minor": 0
}
